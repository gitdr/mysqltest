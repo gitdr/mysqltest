{
 "cells": [
  {
   "cell_type": "markdown",
   "metadata": {},
   "source": [
    "# Setup"
   ]
  },
  {
   "cell_type": "code",
   "execution_count": 20,
   "metadata": {
    "collapsed": true
   },
   "outputs": [],
   "source": [
    "import numpy as np\n",
    "import matplotlib.pyplot as plt\n",
    "import matplotlib.patches as mpatches\n",
    "\n",
    "%matplotlib inline"
   ]
  },
  {
   "cell_type": "markdown",
   "metadata": {},
   "source": [
    "# Database and schema setup"
   ]
  },
  {
   "cell_type": "code",
   "execution_count": 7,
   "metadata": {},
   "outputs": [
    {
     "name": "stderr",
     "output_type": "stream",
     "text": [
      "/usr/lib64/python2.7/site-packages/pymysql/cursors.py:166: Warning: (1007, \"Can't create database 'test'; database exists\")\n",
      "  result = self._query(query)\n"
     ]
    }
   ],
   "source": [
    "from sqlalchemy import Column, ForeignKey, Integer, String, DateTime\n",
    "from sqlalchemy.ext.declarative import declarative_base\n",
    "from sqlalchemy.orm import relationship, sessionmaker\n",
    "from sqlalchemy.sql.expression import extract\n",
    "from sqlalchemy import create_engine\n",
    "from datetime import date\n",
    "\n",
    "Base = declarative_base()\n",
    " \n",
    "class Transaction(Base):\n",
    "    __tablename__ = 'transaction'\n",
    "    id = Column(Integer, primary_key=True)\n",
    "    timestamp = Column(DateTime())\n",
    "    amount = Column(Integer, nullable=False)\n",
    "    description = Column(String(250), nullable=False)\n",
    "    type = Column(Integer, ForeignKey('transaction_type.id'))\n",
    "\n",
    "class TransactionType(Base):\n",
    "    __tablename__ = 'transaction_type'\n",
    "    id = Column(Integer, primary_key=True)\n",
    "    name = Column(String(250), nullable=False)\n",
    "\n",
    "engine = create_engine('mysql+pymysql://root:@localhost:3306')\n",
    "engine.execute(\"CREATE DATABASE IF NOT EXISTS test\")\n",
    "\n",
    "engine = create_engine('mysql+pymysql://root:@localhost:3306/test')\n",
    "Base.metadata.create_all(engine)"
   ]
  },
  {
   "cell_type": "markdown",
   "metadata": {},
   "source": [
    "# Insert core data"
   ]
  },
  {
   "cell_type": "code",
   "execution_count": 8,
   "metadata": {
    "collapsed": true
   },
   "outputs": [],
   "source": [
    "Base.metadata.bind = engine\n",
    "DBSession = sessionmaker(bind=engine)\n",
    "session = DBSession()\n",
    "\n",
    "tts = [tt.name for tt in session.query(TransactionType).all()]\n",
    "\n",
    "expense_tt = TransactionType(name=\"Expense\")\n",
    "if not expense_tt.name in tts:\n",
    "  session.add(expense_tt)\n",
    "\n",
    "income_tt = TransactionType(name=\"Income\")\n",
    "if not income_tt.name in tts:\n",
    "  session.add(income_tt)\n",
    "\n",
    "session.commit()"
   ]
  },
  {
   "cell_type": "markdown",
   "metadata": {},
   "source": [
    "# Insert test data"
   ]
  },
  {
   "cell_type": "code",
   "execution_count": 9,
   "metadata": {},
   "outputs": [],
   "source": [
    "session = DBSession()\n",
    "\n",
    "data = np.random.randint(1, 500, size=50);\n",
    "tt = np.random.randint(0, len(tts), size=50);\n",
    "\n",
    "expense_descriptions = ['food','fuel','car','flight','accomodation']\n",
    "incode_description = ['employment','dividends','interest']\n",
    "\n",
    "tts = session.query(TransactionType).all()\n",
    "\n",
    "for index, amt in enumerate(data):\n",
    "    description = \"\"\n",
    "    if tts[tt[index]].name == \"Expense\":\n",
    "        description = expense_descriptions[np.random.randint(1,len(expense_descriptions))]\n",
    "    else:\n",
    "        description = incode_description[np.random.randint(1,len(incode_description))]\n",
    "    \n",
    "    trans = Transaction(\n",
    "      timestamp=date(2016, np.random.randint(1, 4, size=1), np.random.randint(1, 30, size=1)),\n",
    "      amount=int(amt),\n",
    "      description=description,\n",
    "      type = tts[tt[index]].id\n",
    "    )\n",
    "    session.add(trans)\n",
    "\n",
    "\n",
    "session.commit()"
   ]
  },
  {
   "cell_type": "markdown",
   "metadata": {},
   "source": [
    "# Main chart"
   ]
  },
  {
   "cell_type": "code",
   "execution_count": 26,
   "metadata": {},
   "outputs": [
    {
     "name": "stdout",
     "output_type": "stream",
     "text": [
      "[0 1 2]\n"
     ]
    },
    {
     "data": {
      "image/png": "[encoded data removed]",
      "text/plain": [
       "<matplotlib.figure.Figure at 0x6417bd0>"
      ]
     },
     "metadata": {},
     "output_type": "display_data"
    }
   ],
   "source": [
    "fig, ax = plt.subplots();\n",
    "\n",
    "plotdata = np.empty([2, 3], dtype=int)\n",
    "\n",
    "for index, tt in enumerate([\"Expense\",\"Income\"]):\n",
    "    for month in [1,2,3]:\n",
    "        data = session.query(Transaction,TransactionType).join(TransactionType).filter(extract('month', Transaction.timestamp) == month, TransactionType.name == tt).all()\n",
    "        plotdata[index][month-1] = np.sum([dp.Transaction.amount for dp in data])\n",
    "            \n",
    "x = np.arange(3);\n",
    "print x\n",
    "y1, y2 = plotdata\n",
    "\n",
    "\n",
    "\n",
    "width = 0.25;\n",
    "ax.bar(x, y1, width);\n",
    "ax.bar(\n",
    "    x + width,\n",
    "    y2,\n",
    "    width,\n",
    "    color=list(plt.rcParams['axes.prop_cycle'])[2]['color']\n",
    ")\n",
    "\n",
    "green_patch = mpatches.Patch(color='green', label='Expense')\n",
    "blue_patch = mpatches.Patch(color='blue', label='Income')\n",
    "plt.legend(handles=[blue_patch, green_patch])\n",
    "\n",
    "ax.set_xticks(x + width/2)\n",
    "ax.set_xticklabels(['jan', 'feb', 'mar']);"
   ]
  },
  {
   "cell_type": "code",
   "execution_count": null,
   "metadata": {
    "collapsed": true
   },
   "outputs": [],
   "source": []
  }
 ],
 "metadata": {
  "kernelspec": {
   "display_name": "Python 2",
   "language": "python",
   "name": "python2"
  },
  "language_info": {
   "codemirror_mode": {
    "name": "ipython",
    "version": 2
   },
   "file_extension": ".py",
   "mimetype": "text/x-python",
   "name": "python",
   "nbconvert_exporter": "python",
   "pygments_lexer": "ipython2",
   "version": "2.7.5"
  }
 },
 "nbformat": 4,
 "nbformat_minor": 2
}
